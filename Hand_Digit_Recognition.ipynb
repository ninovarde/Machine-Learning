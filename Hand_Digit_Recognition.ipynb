{
 "cells": [
  {
   "cell_type": "markdown",
   "id": "70340f06-4415-4447-980d-a96c298edda4",
   "metadata": {},
   "source": [
    "# Convolutional Neural Network for Handwritten Digit Recognition"
   ]
  },
  {
   "cell_type": "markdown",
   "id": "894511cd-8710-4fea-ab04-f75058602d84",
   "metadata": {},
   "source": [
    "In this script, we define and train a CNN for handwritten digit recognition."
   ]
  },
  {
   "cell_type": "code",
   "execution_count": 1,
   "id": "72af73d7-1bb9-4d07-b3bd-80f869a266dd",
   "metadata": {},
   "outputs": [],
   "source": [
    "# Importing the Necessary Libraries\n",
    "from torchvision import datasets\n",
    "from torchvision.transforms import ToTensor\n",
    "from torchvision import transforms\n",
    "from torch.utils.data import DataLoader\n",
    "import torch.nn as nn \n",
    "import torch.nn.functional as F\n",
    "import torch.optim as optim\n",
    "import matplotlib.pyplot as plt \n",
    "import torch\n",
    "import numpy as np \n",
    "from PIL import Image, ImageOps\n",
    "from torchvision import datasets, transforms"
   ]
  },
  {
   "cell_type": "markdown",
   "id": "16823d0e-6877-4f82-928a-9c6f49a64a61",
   "metadata": {},
   "source": [
    "- `torchvision` is a PyTorch package with tools for working with image data\n",
    "- `dataset` gives access to common image datasets\n",
    "- `ToTensor` converts images into PyTorch tensors\n",
    "- `DataLoader` is a PyTorch utility to load datasets in batches\n",
    "- `torch.nn` is PyTorch’s module for building neural networks, which provides ready-to-use layers like `nn.Conv2d`, `nn.Linear`, `nn.ReLU`, etc...\n",
    "- `torch.nn.functional` contains functional versions of layers and operations\n",
    "- `torch.optim` implements gradient descent rules, necessary to update the weights in the various layers composing the NN"
   ]
  },
  {
   "cell_type": "markdown",
   "id": "b5a0e4d0-2b47-4909-8f65-24056586ccf0",
   "metadata": {},
   "source": [
    "## Datasets"
   ]
  },
  {
   "cell_type": "code",
   "execution_count": 2,
   "id": "3a79e02d-7383-4ef5-aa97-23d9a207314c",
   "metadata": {},
   "outputs": [],
   "source": [
    "# Load the datasets\n",
    "\n",
    "\n",
    "\n",
    "\n",
    "# Define data transforms\n",
    "transform_train = transforms.Compose([\n",
    "    transforms.RandomRotation(15),              # random rotation\n",
    "    transforms.RandomAffine(0, translate=(0.1, 0.1)),  # random shift\n",
    "    transforms.ToTensor()                     # convert to tensor\n",
    "])\n",
    "\n",
    "transform_test = transforms.Compose([\n",
    "    transforms.ToTensor()\n",
    "])\n",
    "\n",
    "\n",
    "\n",
    "# Load the datasets\n",
    "train_data = datasets.MNIST(\n",
    "    root='data',\n",
    "    train=True,\n",
    "    transform=transform_train,\n",
    "    download=True\n",
    ")\n",
    "\n",
    "test_data = datasets.MNIST(\n",
    "    root='data',\n",
    "    train=False,\n",
    "    transform=transform_test,\n",
    "    download=True\n",
    ")\n"
   ]
  },
  {
   "cell_type": "code",
   "execution_count": 3,
   "id": "07f2b13a-0ec0-4b6b-8f84-31ff4aab45df",
   "metadata": {},
   "outputs": [
    {
     "name": "stdout",
     "output_type": "stream",
     "text": [
      "Training dataset info:\n",
      "\n",
      "Dataset MNIST\n",
      "    Number of datapoints: 60000\n",
      "    Root location: data\n",
      "    Split: Train\n",
      "    StandardTransform\n",
      "Transform: Compose(\n",
      "               RandomRotation(degrees=[-15.0, 15.0], interpolation=nearest, expand=False, fill=0)\n",
      "               RandomAffine(degrees=[0.0, 0.0], translate=(0.1, 0.1))\n",
      "               ToTensor()\n",
      "           ) \n",
      "Target:  tensor([5, 0, 4,  ..., 5, 6, 8]) \n",
      "\n",
      "\n",
      "Test dataset info:\n",
      "\n",
      "Dataset MNIST\n",
      "    Number of datapoints: 10000\n",
      "    Root location: data\n",
      "    Split: Test\n",
      "    StandardTransform\n",
      "Transform: Compose(\n",
      "               ToTensor()\n",
      "           ) \n",
      "Target:  tensor([7, 2, 1,  ..., 4, 5, 6]) \n",
      "\n",
      "\n",
      "\n",
      "Emelement of index 144 in the train dataset\n"
     ]
    },
    {
     "data": {
      "image/png": "[encoded data removed]",
      "text/plain": [
       "<Figure size 640x480 with 1 Axes>"
      ]
     },
     "metadata": {},
     "output_type": "display_data"
    },
    {
     "name": "stdout",
     "output_type": "stream",
     "text": [
      "\n",
      "Emelement of index 144 in the test dataset\n"
     ]
    },
    {
     "data": {
      "image/png": "[encoded data removed]",
      "text/plain": [
       "<Figure size 640x480 with 1 Axes>"
      ]
     },
     "metadata": {},
     "output_type": "display_data"
    }
   ],
   "source": [
    "# Some informations on the dataset\n",
    "print('Training dataset info:\\n')\n",
    "print(train_data,'\\nTarget: ',train_data.targets,'\\n\\n')\n",
    "\n",
    "print('Test dataset info:\\n')\n",
    "print(test_data,'\\nTarget: ',test_data.targets,'\\n\\n')\n",
    "\n",
    "index = 144\n",
    "\n",
    "print()\n",
    "print('Emelement of index',index,'in the train dataset')\n",
    "plt.imshow(train_data.data[index])\n",
    "plt.show()\n",
    "\n",
    "print()\n",
    "print('Emelement of index',index,'in the test dataset')\n",
    "plt.imshow(test_data.data[index])\n",
    "plt.show()"
   ]
  },
  {
   "cell_type": "code",
   "execution_count": 4,
   "id": "f7710a6d-a12b-4037-8a83-6f1bc4b31f56",
   "metadata": {},
   "outputs": [],
   "source": [
    "# Put the datasets into batches\n",
    "\n",
    "loaders = {\n",
    "\n",
    "    'train': DataLoader(train_data, \n",
    "                        batch_size = 32,\n",
    "                        shuffle = True,\n",
    "                        num_workers = 1),\n",
    "\n",
    "    'test': DataLoader(test_data, \n",
    "                        batch_size = 32,\n",
    "                        shuffle = True,\n",
    "                        num_workers = 1)\n",
    "    \n",
    "}\n",
    "\n"
   ]
  },
  {
   "cell_type": "markdown",
   "id": "ba3ed043-1ff7-4425-8fc5-fb3532e85319",
   "metadata": {},
   "source": [
    "## Model Architecture"
   ]
  },
  {
   "cell_type": "markdown",
   "id": "ff3c16db-a782-44e4-8035-80cbe3a7c1cd",
   "metadata": {},
   "source": [
    "### Convolutional Layers\n",
    "\n",
    "- Defined by the number of kernels, $O_{ch}$ and the size of the kernel, $K_{size}$\n",
    "- Each kernel corresponds to a locale feature and introduces a number of parameters $K_{size} \\cdot K_{size} \\cdot I_{ch} + 1$. The first term represents the weights, while the second represents the bias. \n",
    "- A kernel is a matrix of dimension $ [I_{ch},K_{size}, K_{size}]$ plus a bias value. Their elements are initialized randomly and set to zero, respectively. They are applied to the input through a dot product, iterated along all their elements.\n",
    "- Kernel looks at local regions and not at the full input all at once. This is why convolutional layers are used to determine local features.\n",
    "- Capture local patterns that are meaningful for images "
   ]
  },
  {
   "cell_type": "markdown",
   "id": "5bc1461d-1a67-4065-830b-7c9f953f4fa3",
   "metadata": {},
   "source": [
    "### Fully Connected Layers\n",
    "\n",
    "- Define a number of neurons. All the features in input (which can also be seen as neurons) are connected to all the neurons introduced by the layer. \n",
    "- Represented by a single giant weight matrix\n",
    "- Combine all the features for classifications\n",
    "- The last layer combines all the features to make the final prediction."
   ]
  },
  {
   "cell_type": "markdown",
   "id": "7fefdc6a-ea16-448b-b09b-ff023f8f68c7",
   "metadata": {},
   "source": [
    "### Dropout\n",
    "In our case is 2D, and so zeros an entire kernel channel and not single kernel weights. Encourage the network not to rely on any single feature map, improving generalization and avoiding $\\textit{Overfitting}$. \n",
    "\n",
    "### Overfitting \n",
    "$\\textit{Overfitting}$ happens when a model learns the training data too well — including its noise, random variations, and irrelevant details — instead of learning the general patterns that apply to new, unseen data."
   ]
  },
  {
   "cell_type": "code",
   "execution_count": 5,
   "id": "13036f48-5389-4868-a6e5-ba5830a6e017",
   "metadata": {},
   "outputs": [],
   "source": [
    "# Define the CNN model architecture\n",
    "\n",
    "class CNN(nn.Module):\n",
    "\n",
    "    # Defines what layers the model has\n",
    "    def __init__(self):\n",
    "        super(CNN, self).__init__()\n",
    "        \n",
    "        self.conv1 = nn.Conv2d(1,10,kernel_size = 5)\n",
    "        self.conv2 = nn.Conv2d(10,20,kernel_size = 5)\n",
    "        self.conv2_drop = nn.Dropout2d()\n",
    "        self.fc1 = nn.Linear(320,50)\n",
    "        self.fc2 = nn.Linear(50,10)\n",
    "\n",
    "    # Defines how data flows through the NN's layers.\n",
    "    def forward(self, x):\n",
    "        x = F.relu(F.max_pool2d(self.conv1(x),2))\n",
    "        x = F.relu(F.max_pool2d(self.conv2_drop(self.conv2(x)),2))\n",
    "        x = x.view(-1,320)\n",
    "        x = F.relu(self.fc1(x))\n",
    "        x = F.dropout(x,training = self.training)\n",
    "        x = self.fc2(x)\n",
    "\n",
    "        return F.softmax(x)"
   ]
  },
  {
   "cell_type": "markdown",
   "id": "1a2f5d1d-8a6f-45d4-bbe1-fdaa9edfc7a0",
   "metadata": {},
   "source": [
    "- The `forward()` function tells PyTorch how data flows through the layers you defined in `__init__`. Each line transforms the input tensor x (an image) through layers and activations until it becomes a probability distribution over digits 0–9.\n",
    "- `F.max_pool2d`: downsamples the feature map by taking the maximum value in each small region. This reduces the size of the data while keeping the most important features.\n",
    "- `F.relu`: applies the ReLU activation function, which sets negative values to 0 and keeps positive values. This introduces non-linearity, allowing the network to learn complex patterns.\n",
    "- `F.softmax(x)`: converts to probabilities the 10 outputs coming from the last layer, associated to the digits 0-9."
   ]
  },
  {
   "cell_type": "markdown",
   "id": "3adef033-4f3d-4fab-91d0-0c0811ce1ef3",
   "metadata": {},
   "source": [
    "## Training"
   ]
  },
  {
   "cell_type": "code",
   "execution_count": 6,
   "id": "fcfe039d-4993-495d-b893-beec7f1d7359",
   "metadata": {},
   "outputs": [
    {
     "name": "stdout",
     "output_type": "stream",
     "text": [
      "Running on: cpu\n"
     ]
    }
   ],
   "source": [
    "# To improve the training speed, use the GPU instead of the CPU\n",
    "\n",
    "device = torch.device('cuda' if torch.cuda.is_available() else 'cpu')\n",
    "\n",
    "model = CNN().to(device)\n",
    "\n",
    "print('Running on:', device)"
   ]
  },
  {
   "cell_type": "code",
   "execution_count": 7,
   "id": "e0cbee3d-f284-4dbd-98e0-42e24e0f2c3b",
   "metadata": {},
   "outputs": [],
   "source": [
    "# Training Process\n",
    "\n",
    "optimizer = optim.Adam(model.parameters(), lr = 0.001)\n",
    "\n",
    "loss_fn = nn.CrossEntropyLoss()\n",
    "\n",
    "def train(epoch):\n",
    "    model.train()                 # Puts the model in training mode\n",
    "    for batch_idx, (data,target) in enumerate(loaders['train']):\n",
    "        data,target = data.to(device),target.to(device)\n",
    "        optimizer.zero_grad()     # Clears old gradients (from the previous batch) so they don’t accumulate\n",
    "        output = model(data)      # Sends the batch through the CNN and produces predictions for each image\n",
    "        loss = loss_fn(output,target)\n",
    "        loss.backward()           # Calculates the gradients and saves them inside the CNN\n",
    "        optimizer.step()          # Adjusts each weight using the computed gradients\n",
    "        if batch_idx % 300 == 0:\n",
    "            print(f'Train Epoch: {epoch} [{batch_idx * len(data)}/{len(loaders[\"train\"].dataset)} ({100. *batch_idx / len(loaders[\"train\"]):.0f}%)]\\t{loss.item():.6f}')"
   ]
  },
  {
   "cell_type": "markdown",
   "id": "e55ada6b-deb4-45b5-a0a5-70bca13c6232",
   "metadata": {},
   "source": [
    "- `Adam` is a smart optimization algorithm that adapts the learning rate for each parameter. Gradually reduce the model’s prediction errors by updating weights after each batch. \n",
    "- `Measures` how far off the model’s predictions are from the correct labels. Provide a numerical value (“loss”) that gets smaller as the model improves.\n"
   ]
  },
  {
   "cell_type": "code",
   "execution_count": 8,
   "id": "75767b3f-3cd5-4749-b67f-e56ce9f6e221",
   "metadata": {},
   "outputs": [],
   "source": [
    "# Test Function\n",
    "\n",
    "def test():\n",
    "    model.eval() # Set the model into evaluation mode\n",
    "\n",
    "    test_loss = 0\n",
    "    correct = 0 \n",
    "\n",
    "    with torch.no_grad():\n",
    "        for data, target in loaders['test']:\n",
    "            data, target = data.to(device), target.to(device)\n",
    "            output  = model(data)\n",
    "            test_loss  += loss_fn(output, target).item()\n",
    "            pred = output.argmax(dim = 1,keepdim = True)\n",
    "            correct += pred.eq(target.view_as(pred)).sum().item()\n",
    "\n",
    "    test_loss/= len(loaders['test'].dataset)\n",
    "    print(f'\\nTest set: Average loss: {test_loss:.4f}, Accuracy {correct}/{len(loaders[\"test\"].dataset)} ({100. *correct /len(loaders[\"test\"].dataset):.0f}%\\n)')"
   ]
  },
  {
   "cell_type": "markdown",
   "id": "00f467a5-cc2f-403e-9250-1e8e05513210",
   "metadata": {},
   "source": [
    "- `torch.no_grad()` tells PyTorch not to track gradients — it just runs the model forward to get predictions, saving memory and time since no learning (backpropagation) will happen."
   ]
  },
  {
   "cell_type": "code",
   "execution_count": 9,
   "id": "e90ab161-9d6a-4ef4-a309-1de301ad3096",
   "metadata": {},
   "outputs": [
    {
     "name": "stderr",
     "output_type": "stream",
     "text": [
      "C:\\Users\\nino\\AppData\\Local\\Temp\\ipykernel_27664\\2094222712.py:24: UserWarning: Implicit dimension choice for softmax has been deprecated. Change the call to include dim=X as an argument.\n",
      "  return F.softmax(x)\n"
     ]
    },
    {
     "name": "stdout",
     "output_type": "stream",
     "text": [
      "Train Epoch: 1 [0/60000 (0%)]\t2.303658\n",
      "Train Epoch: 1 [9600/60000 (16%)]\t2.099509\n",
      "Train Epoch: 1 [19200/60000 (32%)]\t1.895079\n",
      "Train Epoch: 1 [28800/60000 (48%)]\t1.974007\n",
      "Train Epoch: 1 [38400/60000 (64%)]\t1.868297\n",
      "Train Epoch: 1 [48000/60000 (80%)]\t1.904961\n",
      "Train Epoch: 1 [57600/60000 (96%)]\t1.598193\n",
      "\n",
      "Test set: Average loss: 0.0479, Accuracy 9320/10000 (93%\n",
      ")\n",
      "Train Epoch: 2 [0/60000 (0%)]\t1.702996\n",
      "Train Epoch: 2 [9600/60000 (16%)]\t1.709211\n",
      "Train Epoch: 2 [19200/60000 (32%)]\t1.749564\n",
      "Train Epoch: 2 [28800/60000 (48%)]\t1.788853\n",
      "Train Epoch: 2 [38400/60000 (64%)]\t1.718649\n",
      "Train Epoch: 2 [48000/60000 (80%)]\t1.693166\n",
      "Train Epoch: 2 [57600/60000 (96%)]\t1.821641\n",
      "\n",
      "Test set: Average loss: 0.0471, Accuracy 9552/10000 (96%\n",
      ")\n",
      "Train Epoch: 3 [0/60000 (0%)]\t1.781163\n",
      "Train Epoch: 3 [9600/60000 (16%)]\t1.696351\n",
      "Train Epoch: 3 [19200/60000 (32%)]\t1.706886\n",
      "Train Epoch: 3 [28800/60000 (48%)]\t1.628570\n",
      "Train Epoch: 3 [38400/60000 (64%)]\t1.618037\n",
      "Train Epoch: 3 [48000/60000 (80%)]\t1.672143\n",
      "Train Epoch: 3 [57600/60000 (96%)]\t1.706445\n",
      "\n",
      "Test set: Average loss: 0.0469, Accuracy 9636/10000 (96%\n",
      ")\n",
      "Train Epoch: 4 [0/60000 (0%)]\t1.600331\n",
      "Train Epoch: 4 [9600/60000 (16%)]\t1.594359\n",
      "Train Epoch: 4 [19200/60000 (32%)]\t1.725333\n",
      "Train Epoch: 4 [28800/60000 (48%)]\t1.634733\n",
      "Train Epoch: 4 [38400/60000 (64%)]\t1.603270\n",
      "Train Epoch: 4 [48000/60000 (80%)]\t1.688915\n",
      "Train Epoch: 4 [57600/60000 (96%)]\t1.546688\n",
      "\n",
      "Test set: Average loss: 0.0468, Accuracy 9660/10000 (97%\n",
      ")\n",
      "Train Epoch: 5 [0/60000 (0%)]\t1.647936\n",
      "Train Epoch: 5 [9600/60000 (16%)]\t1.648541\n",
      "Train Epoch: 5 [19200/60000 (32%)]\t1.733443\n",
      "Train Epoch: 5 [28800/60000 (48%)]\t1.622783\n",
      "Train Epoch: 5 [38400/60000 (64%)]\t1.738821\n",
      "Train Epoch: 5 [48000/60000 (80%)]\t1.610879\n",
      "Train Epoch: 5 [57600/60000 (96%)]\t1.649533\n",
      "\n",
      "Test set: Average loss: 0.0467, Accuracy 9704/10000 (97%\n",
      ")\n",
      "Train Epoch: 6 [0/60000 (0%)]\t1.686719\n",
      "Train Epoch: 6 [9600/60000 (16%)]\t1.592310\n",
      "Train Epoch: 6 [19200/60000 (32%)]\t1.538411\n",
      "Train Epoch: 6 [28800/60000 (48%)]\t1.568676\n",
      "Train Epoch: 6 [38400/60000 (64%)]\t1.610160\n",
      "Train Epoch: 6 [48000/60000 (80%)]\t1.617773\n",
      "Train Epoch: 6 [57600/60000 (96%)]\t1.645584\n",
      "\n",
      "Test set: Average loss: 0.0467, Accuracy 9687/10000 (97%\n",
      ")\n",
      "Train Epoch: 7 [0/60000 (0%)]\t1.579651\n",
      "Train Epoch: 7 [9600/60000 (16%)]\t1.625819\n",
      "Train Epoch: 7 [19200/60000 (32%)]\t1.784646\n",
      "Train Epoch: 7 [28800/60000 (48%)]\t1.674660\n",
      "Train Epoch: 7 [38400/60000 (64%)]\t1.610433\n",
      "Train Epoch: 7 [48000/60000 (80%)]\t1.584302\n",
      "Train Epoch: 7 [57600/60000 (96%)]\t1.623937\n",
      "\n",
      "Test set: Average loss: 0.0467, Accuracy 9702/10000 (97%\n",
      ")\n",
      "Train Epoch: 8 [0/60000 (0%)]\t1.677813\n",
      "Train Epoch: 8 [9600/60000 (16%)]\t1.593008\n",
      "Train Epoch: 8 [19200/60000 (32%)]\t1.620317\n",
      "Train Epoch: 8 [28800/60000 (48%)]\t1.461357\n",
      "Train Epoch: 8 [38400/60000 (64%)]\t1.653511\n",
      "Train Epoch: 8 [48000/60000 (80%)]\t1.597850\n",
      "Train Epoch: 8 [57600/60000 (96%)]\t1.690994\n",
      "\n",
      "Test set: Average loss: 0.0466, Accuracy 9732/10000 (97%\n",
      ")\n",
      "Train Epoch: 9 [0/60000 (0%)]\t1.633870\n",
      "Train Epoch: 9 [9600/60000 (16%)]\t1.600619\n",
      "Train Epoch: 9 [19200/60000 (32%)]\t1.631616\n",
      "Train Epoch: 9 [28800/60000 (48%)]\t1.532963\n",
      "Train Epoch: 9 [38400/60000 (64%)]\t1.616373\n",
      "Train Epoch: 9 [48000/60000 (80%)]\t1.619060\n",
      "Train Epoch: 9 [57600/60000 (96%)]\t1.526232\n",
      "\n",
      "Test set: Average loss: 0.0466, Accuracy 9718/10000 (97%\n",
      ")\n",
      "Train Epoch: 10 [0/60000 (0%)]\t1.632527\n",
      "Train Epoch: 10 [9600/60000 (16%)]\t1.552990\n",
      "Train Epoch: 10 [19200/60000 (32%)]\t1.653489\n",
      "Train Epoch: 10 [28800/60000 (48%)]\t1.606743\n",
      "Train Epoch: 10 [38400/60000 (64%)]\t1.543300\n",
      "Train Epoch: 10 [48000/60000 (80%)]\t1.769649\n",
      "Train Epoch: 10 [57600/60000 (96%)]\t1.521775\n",
      "\n",
      "Test set: Average loss: 0.0466, Accuracy 9725/10000 (97%\n",
      ")\n"
     ]
    }
   ],
   "source": [
    "# Training\n",
    "\n",
    "for epoch in range(1,11):\n",
    "    train(epoch)\n",
    "    test()"
   ]
  },
  {
   "cell_type": "markdown",
   "id": "32dadd16-a83e-4334-9a4b-01d142521ba2",
   "metadata": {},
   "source": [
    "## Testing the Model"
   ]
  },
  {
   "cell_type": "code",
   "execution_count": 10,
   "id": "bf00e6f1-a729-46e6-8245-14f94ad016e8",
   "metadata": {},
   "outputs": [
    {
     "name": "stdout",
     "output_type": "stream",
     "text": [
      "Prediction: 6\n"
     ]
    },
    {
     "name": "stderr",
     "output_type": "stream",
     "text": [
      "C:\\Users\\nino\\AppData\\Local\\Temp\\ipykernel_27664\\2094222712.py:24: UserWarning: Implicit dimension choice for softmax has been deprecated. Change the call to include dim=X as an argument.\n",
      "  return F.softmax(x)\n"
     ]
    },
    {
     "data": {
      "text/plain": [
       "<matplotlib.image.AxesImage at 0x26302d46210>"
      ]
     },
     "execution_count": 10,
     "metadata": {},
     "output_type": "execute_result"
    },
    {
     "data": {
      "image/png": "[encoded data removed]",
      "text/plain": [
       "<Figure size 640x480 with 1 Axes>"
      ]
     },
     "metadata": {},
     "output_type": "display_data"
    }
   ],
   "source": [
    "model.eval()\n",
    "\n",
    "data,target = test_data[11]\n",
    "\n",
    "data = data.unsqueeze(0).to(device)\n",
    "\n",
    "output = model(data)\n",
    "\n",
    "prediction = output.argmax(dim = 1, keepdim = True).item()\n",
    "print(f'Prediction: {prediction}')\n",
    "\n",
    "image = data.squeeze(0).squeeze(0).cpu().numpy()\n",
    "\n",
    "plt.imshow(image)\n"
   ]
  },
  {
   "cell_type": "markdown",
   "id": "508c812f-9f03-42d6-a730-b50f50bf63f8",
   "metadata": {},
   "source": [
    "## Examples with real handwritten digits"
   ]
  },
  {
   "cell_type": "code",
   "execution_count": 16,
   "id": "87f2b3f0-5830-4284-861e-836553ec56b0",
   "metadata": {},
   "outputs": [
    {
     "data": {
      "image/png": "[encoded data removed]",
      "text/plain": [
       "<Figure size 640x480 with 1 Axes>"
      ]
     },
     "metadata": {},
     "output_type": "display_data"
    },
    {
     "name": "stdout",
     "output_type": "stream",
     "text": [
      "Image size (width, height): (112, 111)\n",
      "Image mode (color type): RGB\n",
      "Prediction: 3\n"
     ]
    },
    {
     "name": "stderr",
     "output_type": "stream",
     "text": [
      "C:\\Users\\nino\\AppData\\Local\\Temp\\ipykernel_27664\\3314105775.py:25: DeprecationWarning: __array__ implementation doesn't accept a copy keyword, so passing copy=False failed. __array__ must implement 'dtype' and 'copy' keyword arguments. To learn more, see the migration guide https://numpy.org/devdocs/numpy_2_0_migration_guide.html#adapting-to-changes-in-the-copy-keyword\n",
      "  theshold =  0.5*np.max(np.array(img_tensor[0,0,:,:]))\n",
      "C:\\Users\\nino\\AppData\\Local\\Temp\\ipykernel_27664\\2094222712.py:24: UserWarning: Implicit dimension choice for softmax has been deprecated. Change the call to include dim=X as an argument.\n",
      "  return F.softmax(x)\n"
     ]
    },
    {
     "data": {
      "image/png": "[encoded data removed]",
      "text/plain": [
       "<Figure size 640x480 with 1 Axes>"
      ]
     },
     "metadata": {},
     "output_type": "display_data"
    }
   ],
   "source": [
    "# Download the image\n",
    "filepath = \"your//path\"\n",
    "img = Image.open(filepath)                  \n",
    "plt.imshow(img)                            \n",
    "plt.axis('off')                              \n",
    "plt.show()\n",
    "print(\"Image size (width, height):\", img.size)\n",
    "print(\"Image mode (color type):\", img.mode)\n",
    "\n",
    "# Convert into a proper tensor format \n",
    "img = img.convert('L')\n",
    "img = ImageOps.invert(img) \n",
    "\n",
    "transform = transforms.Compose([\n",
    "    transforms.Grayscale(),      # 1 channel\n",
    "    transforms.Resize((28, 28)), # same size as MNIST\n",
    "    transforms.ToTensor(),       # converts to [0,1]\n",
    "    transforms.Normalize((0.1307,), (0.3081,))  # MNIST normalization\n",
    "])\n",
    "img_tensor = transform(img)\n",
    "img_tensor = img_tensor.unsqueeze(0).to(device)\n",
    "\n",
    "# Adapt the image to make the CNN's life easier\n",
    "\n",
    "theshold =  0.5*np.max(np.array(img_tensor[0,0,:,:]))\n",
    "for i in range(img_tensor.shape[2]):\n",
    "    for j in range(img_tensor.shape[3]):\n",
    "        if img_tensor[0,0,i,j]<theshold:\n",
    "            img_tensor[0,0,i,j]=0\n",
    "    \n",
    "plt.imshow(img_tensor[0,0,:,:])\n",
    "\n",
    "# Send the image to the model for the prediction \n",
    "output = model(img_tensor)\n",
    "prediction = output.argmax(dim = 1, keepdim = True).item()\n",
    "print(f'Prediction: {prediction}')\n",
    "\n",
    "\n",
    "\n"
   ]
  },
  {
   "cell_type": "code",
   "execution_count": null,
   "id": "60c6dfd2-ac4f-4139-a255-68dd59adb420",
   "metadata": {},
   "outputs": [],
   "source": []
  }
 ],
 "metadata": {
  "kernelspec": {
   "display_name": "Python 3 (ipykernel)",
   "language": "python",
   "name": "python3"
  },
  "language_info": {
   "codemirror_mode": {
    "name": "ipython",
    "version": 3
   },
   "file_extension": ".py",
   "mimetype": "text/x-python",
   "name": "python",
   "nbconvert_exporter": "python",
   "pygments_lexer": "ipython3",
   "version": "3.13.7"
  }
 },
 "nbformat": 4,
 "nbformat_minor": 5
}
